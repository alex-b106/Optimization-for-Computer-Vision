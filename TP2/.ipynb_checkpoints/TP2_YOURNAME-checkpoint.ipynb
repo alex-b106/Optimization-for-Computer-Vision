{
 "cells": [
  {
   "cell_type": "markdown",
   "id": "0a4dd847",
   "metadata": {},
   "source": [
    "# OVO Tutorial #2\n",
    "# RENAME THIS FILE WITH YOUR LAST NAME\n",
    "\n",
    "e.g., my name is Tony Silveti-Falls, so I would rename this file:\n",
    "\n",
    "```\n",
    "TP2_Silveti-Falls.ipynb\n",
    "```\n",
    "\n",
    "### Setup and Imports"
   ]
  },
  {
   "cell_type": "code",
   "execution_count": null,
   "id": "f2b110ef",
   "metadata": {},
   "outputs": [],
   "source": [
    "# Libraries\n",
    "\n",
    "\n"
   ]
  },
  {
   "cell_type": "markdown",
   "id": "c76fcb64",
   "metadata": {},
   "source": [
    "# Denoising with the ROF Model"
   ]
  },
  {
   "cell_type": "markdown",
   "id": "ae147447",
   "metadata": {},
   "source": [
    "## The ROF model \n",
    "The ROF model for the forward model $x_d = x + \\delta$ is given by\n",
    "$$\\min\\limits_{u\\in\\mathbb{R}^{790\\times790}}\\frac{1}{2}\\|u-x_d\\|^2 + \\lambda\\|\\nabla u\\|_1$$\n",
    "with $\\nabla:\\mathbb{R}^{790\\times 790}\\to(\\mathbb{R}^{790\\times 790})^2$\n",
    "\n",
    "Load the noisy cat image ```cat_noise.png``` and store it as a numpy array."
   ]
  },
  {
   "cell_type": "code",
   "execution_count": null,
   "id": "3a45b2e5",
   "metadata": {},
   "outputs": [],
   "source": []
  },
  {
   "cell_type": "markdown",
   "id": "96d4c00a",
   "metadata": {},
   "source": [
    "## The Rockafellar-Fenchel duality theorem \n",
    "\n",
    "\n",
    "The duality theorem tells us that for $f\\in\\Gamma_0(\\mathbb{R}^{n\\times n}, g\\in\\Gamma_0((\\mathbb{R}^{n\\times n})^2), K:\\mathbb{R}^{n\\times n}\\to (\\mathbb{R}^{n\\times n})^2$ (and qualification conditions, see 15.24 in Bauschke and Combettes)\n",
    "\n",
    "\n",
    "$$\\min\\limits_{u\\in\\mathbb{R}^{n\\times n}} f(u) + g(Ku) \\iff \\min\\limits_{z\\in(\\mathbb{R}^{n\\times n})^2}f^*(K^*z) + g^*(-z)$$\n",
    "\n"
   ]
  },
  {
   "cell_type": "markdown",
   "id": "06ee8ab0",
   "metadata": {},
   "source": [
    "### Applied to the ROF problem"
   ]
  },
  {
   "cell_type": "markdown",
   "id": "28c355c6",
   "metadata": {},
   "source": [
    "#### Finding the conjugate of $f$"
   ]
  },
  {
   "cell_type": "code",
   "execution_count": null,
   "id": "2e09898e",
   "metadata": {},
   "outputs": [],
   "source": []
  },
  {
   "cell_type": "markdown",
   "id": "b1f56c04",
   "metadata": {},
   "source": [
    "#### Finding the conjugate of $g$"
   ]
  },
  {
   "cell_type": "code",
   "execution_count": null,
   "id": "edbd6ddc",
   "metadata": {},
   "outputs": [],
   "source": []
  },
  {
   "cell_type": "markdown",
   "id": "0fe12295",
   "metadata": {},
   "source": [
    "#### Finding the adjoint of $\\nabla$\n",
    "\n",
    "\n",
    "Recall that in general an adjoint is the unique linear associated to a linear operator $A:\\mathcal{X}\\to\\mathcal{Y}$ between Hilbert spaces $\\mathcal{X}$ and $\\mathcal{Y}$ such that\n",
    "$$\\langle Ax, y\\rangle = \\langle x, A^*y\\rangle$$\n",
    "for all $x\\in\\mathcal{X}$ and all $y\\in\\mathcal{Y}$. So, the trick to calculating the adjoint is to write down the inner product between $Ax$ and $y$ and try to rewrite this as an inner product of \"something\" with just $x$. Whatever the \"something\" we get is, that is the adjoint.\n",
    "\n",
    "\n",
    "Note: for this problem we will assume that $\\nabla$ is discretized according to the forward finite difference scheme with periodic boundary conditions (meaning we assume that $x_{1,j}$ and $x_{790,j}$ are neighbors for all $1\\leq j\\leq 790$ and similarly for the rows."
   ]
  },
  {
   "cell_type": "code",
   "execution_count": null,
   "id": "ce9a047b",
   "metadata": {},
   "outputs": [],
   "source": []
  },
  {
   "cell_type": "markdown",
   "id": "c5e2ff8a",
   "metadata": {},
   "source": [
    "Check that the adjoint is computed correctly:"
   ]
  },
  {
   "cell_type": "code",
   "execution_count": null,
   "id": "f63953ed",
   "metadata": {},
   "outputs": [],
   "source": []
  },
  {
   "cell_type": "markdown",
   "id": "f9724f4a",
   "metadata": {},
   "source": [
    "## Applying Forward-Backward splitting\n",
    "\n",
    "You may assume that the operator norm of $\\nabla^*\\nabla$ is bounded in this setting (periodic boundary conditions, neighbors only vertical/horizontal) by $8$.\n",
    "\n",
    "#### Implementing the Forward-Backward algorithm\n",
    "\n",
    "\n",
    "<FONT COLOR=\"#ff0000\">Note: the formula to recover the primal solution from the dual solution should be $x_d + \\nabla^*y^\\star$ where $y^\\star$ is a dual solution.</FONT>"
   ]
  },
  {
   "cell_type": "code",
   "execution_count": null,
   "id": "7f951835",
   "metadata": {},
   "outputs": [],
   "source": []
  },
  {
   "cell_type": "markdown",
   "id": "267ada30",
   "metadata": {},
   "source": [
    "#### Testing the algorithm\n",
    "\n",
    "Run the algorithm and plot the objective function values. Plot the image you recover."
   ]
  },
  {
   "cell_type": "code",
   "execution_count": null,
   "id": "39a5431f",
   "metadata": {},
   "outputs": [],
   "source": []
  },
  {
   "cell_type": "markdown",
   "id": "21b8bf1f",
   "metadata": {},
   "source": [
    "We can compare the primal and minus the dual functional values; the duality theorem says they should be equal. Plot their difference here."
   ]
  },
  {
   "cell_type": "code",
   "execution_count": null,
   "id": "39b1dd5b",
   "metadata": {},
   "outputs": [],
   "source": []
  },
  {
   "cell_type": "markdown",
   "id": "b25fcd50",
   "metadata": {},
   "source": [
    "## Applying FISTA"
   ]
  },
  {
   "cell_type": "markdown",
   "id": "bce0055d",
   "metadata": {},
   "source": [
    "Using the same formulation that you used for forward-backward splitting, apply FISTA.\n",
    "\n",
    "#### Implementing FISTA"
   ]
  },
  {
   "cell_type": "code",
   "execution_count": null,
   "id": "d8b064a7",
   "metadata": {},
   "outputs": [],
   "source": []
  },
  {
   "cell_type": "markdown",
   "id": "27f50286",
   "metadata": {},
   "source": [
    "#### Testing the algorithm\n",
    "\n",
    "Run the algorithm and plot the objective values. Plot the image you recover."
   ]
  },
  {
   "cell_type": "code",
   "execution_count": null,
   "id": "b7dcdb38",
   "metadata": {},
   "outputs": [],
   "source": []
  },
  {
   "cell_type": "markdown",
   "id": "587715b5",
   "metadata": {},
   "source": [
    "# Frank-Wolfe for inpainting"
   ]
  },
  {
   "cell_type": "markdown",
   "id": "85bb1bfa",
   "metadata": {},
   "source": [
    "We consider the problem of recovering an image given only a partial observation. This is also known as inpainting. We will model our prior on the distribution of natural images as those images whose nuclear norm is sufficiently small, i.e.,\n",
    "$$\\min\\limits_{x\\in\\mathcal{B}} \\frac{1}{2}\\|Ax-b\\|_2^2$$\n",
    "where $\\mathcal{B}$ is the nuclear norm ball of radius $\\rho>0$, $A$ is the linear operator (mask) that maps $x$ to its partial observations, and $b$ is partial observation of the ground truth, possibly corrupted by AWGN.\n",
    "\n",
    "Write a function that generates a random mask, that can be used to model $A$, as a function of the percentage of entries observed."
   ]
  },
  {
   "cell_type": "code",
   "execution_count": null,
   "id": "cc590a3d",
   "metadata": {},
   "outputs": [],
   "source": []
  },
  {
   "cell_type": "markdown",
   "id": "3bada815",
   "metadata": {},
   "source": [
    "Write a function that computes the linear minimization oracle associated to $\\mathcal{B}$ as a function of $\\rho$ the radius of the ball."
   ]
  },
  {
   "cell_type": "code",
   "execution_count": null,
   "id": "14f0b41f",
   "metadata": {},
   "outputs": [],
   "source": []
  },
  {
   "cell_type": "markdown",
   "id": "ad393476",
   "metadata": {},
   "source": [
    "Write a function to compute the objective $f(x)$."
   ]
  },
  {
   "cell_type": "code",
   "execution_count": null,
   "id": "487ffbbe",
   "metadata": {},
   "outputs": [],
   "source": []
  },
  {
   "cell_type": "markdown",
   "id": "00076041",
   "metadata": {},
   "source": [
    "Write the Frank-Wolfe algorithm and apply it using a mask that you generate applied to the image house_noise\n",
    ".jpg with $\\rho = 2000$."
   ]
  },
  {
   "cell_type": "code",
   "execution_count": null,
   "id": "b4e7eab2",
   "metadata": {},
   "outputs": [],
   "source": []
  },
  {
   "cell_type": "markdown",
   "id": "234d19fb",
   "metadata": {},
   "source": [
    "Plot the objective function values as well as the so-called Frank-Wolfe gap $\\langle \\nabla f(x_k), x_k-s_k\\rangle$ which is a certificate of optimality."
   ]
  },
  {
   "cell_type": "code",
   "execution_count": null,
   "id": "f360bc10",
   "metadata": {},
   "outputs": [],
   "source": []
  },
  {
   "cell_type": "markdown",
   "id": "176fdd54",
   "metadata": {},
   "source": [
    "Apply FISTA to solve this problem and compare the results with the results of Frank-Wolfe in terms of objective values. Start by writing the $\\mathrm{prox}$ for the nonsmooth function in this problem."
   ]
  },
  {
   "cell_type": "code",
   "execution_count": null,
   "id": "cc76eba1",
   "metadata": {},
   "outputs": [],
   "source": []
  },
  {
   "cell_type": "markdown",
   "id": "c2b08ff5",
   "metadata": {},
   "source": [
    "# SUBMISSION\n",
    "\n",
    "To submit your file, send an email to:\n",
    "```\n",
    "antonio.silveti-falls@centralesupelec.fr\n",
    "```\n",
    "with the subject line:\n",
    "```\n",
    "TP2_YOURNAME\n",
    "```\n",
    "where YOURNAME is your last name, just like in the file name.\n",
    "\n",
    "**IF YOU DO NOT DO THIS, YOU WILL NOT GET CREDIT FOR YOUR WORK.**"
   ]
  }
 ],
 "metadata": {
  "kernelspec": {
   "display_name": "Python 3 (ipykernel)",
   "language": "python",
   "name": "python3"
  },
  "language_info": {
   "codemirror_mode": {
    "name": "ipython",
    "version": 3
   },
   "file_extension": ".py",
   "mimetype": "text/x-python",
   "name": "python",
   "nbconvert_exporter": "python",
   "pygments_lexer": "ipython3",
   "version": "3.9.18"
  }
 },
 "nbformat": 4,
 "nbformat_minor": 5
}
